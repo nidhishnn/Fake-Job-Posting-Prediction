{
 "cells": [
  {
   "cell_type": "code",
   "execution_count": 1,
   "id": "338984de",
   "metadata": {},
   "outputs": [
    {
     "name": "stdout",
     "output_type": "stream",
     "text": [
      "Intel MKL WARNING: Support of Intel(R) Streaming SIMD Extensions 4.2 (Intel(R) SSE4.2) enabled only processors has been deprecated. Intel oneAPI Math Kernel Library 2025.0 will require Intel(R) Advanced Vector Extensions (Intel(R) AVX) instructions.\n",
      "Intel MKL WARNING: Support of Intel(R) Streaming SIMD Extensions 4.2 (Intel(R) SSE4.2) enabled only processors has been deprecated. Intel oneAPI Math Kernel Library 2025.0 will require Intel(R) Advanced Vector Extensions (Intel(R) AVX) instructions.\n"
     ]
    }
   ],
   "source": [
    "import pandas as pd\n",
    "import numpy as np\n",
    "import matplotlib.pyplot as plt\n",
    "import seaborn as sns\n",
    "import datetime\n",
    "from category_encoders import TargetEncoder\n",
    "from sklearn.experimental import enable_iterative_imputer\n",
    "from sklearn.impute import IterativeImputer\n",
    "from sklearn.preprocessing import StandardScaler\n",
    "from sklearn.preprocessing import PowerTransformer\n",
    "from sklearn.model_selection import train_test_split\n",
    "from sklearn.decomposition import PCA\n",
    "import imblearn\n",
    "from imblearn.over_sampling import SMOTE\n",
    "from imblearn.over_sampling import RandomOverSampler\n",
    "from imblearn.under_sampling import RandomUnderSampler\n",
    "from imblearn.under_sampling import NearMiss\n",
    "from sklearn.model_selection import cross_val_score\n",
    "from sklearn.naive_bayes import GaussianNB\n",
    "from sklearn.linear_model import LogisticRegression\n",
    "from sklearn.tree import DecisionTreeClassifier\n",
    "from sklearn.ensemble import RandomForestClassifier\n",
    "from sklearn.neighbors import KNeighborsClassifier\n",
    "from sklearn.svm import SVC\n",
    "from sklearn.metrics import accuracy_score, precision_score, recall_score, classification_report, roc_auc_score, confusion_matrix"
   ]
  },
  {
   "cell_type": "code",
   "execution_count": 2,
   "id": "b1ca606d",
   "metadata": {},
   "outputs": [],
   "source": [
    "df = pd.read_csv(\"superstore_data.csv\")"
   ]
  },
  {
   "cell_type": "markdown",
   "id": "08d9a3f4",
   "metadata": {},
   "source": [
    "# Data Cleaning"
   ]
  },
  {
   "cell_type": "markdown",
   "id": "f9fe42c3",
   "metadata": {},
   "source": [
    "1. Adjust existing features and add new ones\n",
    "2. Handle missing values in Income field\n",
    "3. Apply one-hot encoding to categorical variables\n",
    "4. Split data into training and testing sets\n",
    "5. Standardize data\n",
    "6. Resolve class imbalance for Response target variable "
   ]
  },
  {
   "cell_type": "code",
   "execution_count": 3,
   "id": "96415887",
   "metadata": {},
   "outputs": [],
   "source": [
    "#Convert birth year to customer age\n",
    "df['Age'] = datetime.date.today().year - df['Year_Birth']"
   ]
  },
  {
   "cell_type": "code",
   "execution_count": 4,
   "id": "7d3dcba2",
   "metadata": {},
   "outputs": [],
   "source": [
    "#Combine education levels\n",
    "#Masters and PhD are High level, rest are labeled as Low\n",
    "def education_transform(level):\n",
    "    if level in ['PhD', 'Master']:\n",
    "        return 'High'\n",
    "    return 'Low'\n",
    "df['Education_combined'] = df['Education'].map(education_transform)"
   ]
  },
  {
   "cell_type": "code",
   "execution_count": 5,
   "id": "a47626a2",
   "metadata": {},
   "outputs": [],
   "source": [
    "#Combine marital status levels\n",
    "#Joining Alone, YOLO, and Absurd to Single\n",
    "#Combining Divorced and Widow\n",
    "def marital_adjust(s):\n",
    "    if s in ['Alone', 'YOLO', 'Absurd']:\n",
    "        return 'Single'\n",
    "    elif s in ['Widow']:\n",
    "        return 'Divorced'\n",
    "    else:\n",
    "        return s\n",
    "df['Marital_combined'] = df['Marital_Status'].map(marital_adjust)"
   ]
  },
  {
   "cell_type": "code",
   "execution_count": 6,
   "id": "52d678e2",
   "metadata": {},
   "outputs": [
    {
     "data": {
      "text/plain": [
       "Marital_combined\n",
       "Married     864\n",
       "Together    580\n",
       "Single      487\n",
       "Divorced    309\n",
       "Name: count, dtype: int64"
      ]
     },
     "execution_count": 6,
     "metadata": {},
     "output_type": "execute_result"
    }
   ],
   "source": [
    "df['Marital_combined'].value_counts()"
   ]
  },
  {
   "cell_type": "code",
   "execution_count": 7,
   "id": "2c4a291b",
   "metadata": {},
   "outputs": [],
   "source": [
    "#Adding year joined field based on Dt_Customer\n",
    "#Adding number of years individual has been a customer\n",
    "df['Dt_Customer'] = pd.to_datetime(df['Dt_Customer'])\n",
    "df['Year_Joined'] = pd.DatetimeIndex(df['Dt_Customer']).year\n",
    "df['Years_Customer'] = datetime.date.today().year - df['Year_Joined']"
   ]
  },
  {
   "cell_type": "code",
   "execution_count": 8,
   "id": "2355ea7f",
   "metadata": {},
   "outputs": [],
   "source": [
    "#Adjusting kid-home to 0 or 1+\n",
    "def num_kids(x):\n",
    "    if x >= 1:\n",
    "        return 'HasKids'\n",
    "    else:\n",
    "        return 'NoKids'\n",
    "df['Kidhome_adj'] = df['Kidhome'].map(num_kids)"
   ]
  },
  {
   "cell_type": "code",
   "execution_count": 9,
   "id": "dcf70ec6",
   "metadata": {},
   "outputs": [],
   "source": [
    "#Adjusting teen-home to 0 or 1+\n",
    "def teen_home(x):\n",
    "    if x >= 1:\n",
    "        return 'HasTeens'\n",
    "    else:\n",
    "        return 'NoTeens'\n",
    "df['Teenhome_adj'] = df['Teenhome'].map(teen_home)"
   ]
  },
  {
   "cell_type": "code",
   "execution_count": 10,
   "id": "bda2034c",
   "metadata": {
    "scrolled": true
   },
   "outputs": [
    {
     "data": {
      "text/plain": [
       "Id                     0\n",
       "Year_Birth             0\n",
       "Education              0\n",
       "Marital_Status         0\n",
       "Income                 0\n",
       "Kidhome                0\n",
       "Teenhome               0\n",
       "Dt_Customer            0\n",
       "Recency                0\n",
       "MntWines               0\n",
       "MntFruits              0\n",
       "MntMeatProducts        0\n",
       "MntFishProducts        0\n",
       "MntSweetProducts       0\n",
       "MntGoldProds           0\n",
       "NumDealsPurchases      0\n",
       "NumWebPurchases        0\n",
       "NumCatalogPurchases    0\n",
       "NumStorePurchases      0\n",
       "NumWebVisitsMonth      0\n",
       "Response               0\n",
       "Complain               0\n",
       "Age                    0\n",
       "Education_combined     0\n",
       "Marital_combined       0\n",
       "Year_Joined            0\n",
       "Years_Customer         0\n",
       "Kidhome_adj            0\n",
       "Teenhome_adj           0\n",
       "dtype: int64"
      ]
     },
     "execution_count": 10,
     "metadata": {},
     "output_type": "execute_result"
    }
   ],
   "source": [
    "#Replacing missing Income values with Iterative Imputer\n",
    "imputer = IterativeImputer(random_state = 10)\n",
    "df['Income'] = imputer.fit_transform(df[['Income']])\n",
    "df.isna().sum()"
   ]
  },
  {
   "cell_type": "code",
   "execution_count": 11,
   "id": "37ff5776",
   "metadata": {},
   "outputs": [],
   "source": [
    "#One-hot encoding for categorical variables\n",
    "df = pd.get_dummies(df, columns = ['Education_combined', 'Kidhome_adj', 'Teenhome_adj', 'Marital_combined'], \n",
    "                    dtype = 'int64', \n",
    "                    drop_first = True)"
   ]
  },
  {
   "cell_type": "code",
   "execution_count": 55,
   "id": "601c8720",
   "metadata": {},
   "outputs": [
    {
     "name": "stderr",
     "output_type": "stream",
     "text": [
      "/opt/anaconda3/lib/python3.8/site-packages/category_encoders/target_encoder.py:122: FutureWarning: Default parameter min_samples_leaf will change in version 2.6.See https://github.com/scikit-learn-contrib/category_encoders/issues/327\n",
      "  warnings.warn(\"Default parameter min_samples_leaf will change in version 2.6.\"\n",
      "/opt/anaconda3/lib/python3.8/site-packages/category_encoders/target_encoder.py:127: FutureWarning: Default parameter smoothing will change in version 2.6.See https://github.com/scikit-learn-contrib/category_encoders/issues/327\n",
      "  warnings.warn(\"Default parameter smoothing will change in version 2.6.\"\n"
     ]
    },
    {
     "data": {
      "text/html": [
       "<div>\n",
       "<style scoped>\n",
       "    .dataframe tbody tr th:only-of-type {\n",
       "        vertical-align: middle;\n",
       "    }\n",
       "\n",
       "    .dataframe tbody tr th {\n",
       "        vertical-align: top;\n",
       "    }\n",
       "\n",
       "    .dataframe thead th {\n",
       "        text-align: right;\n",
       "    }\n",
       "</style>\n",
       "<table border=\"1\" class=\"dataframe\">\n",
       "  <thead>\n",
       "    <tr style=\"text-align: right;\">\n",
       "      <th></th>\n",
       "      <th>Id</th>\n",
       "      <th>Year_Birth</th>\n",
       "      <th>Education</th>\n",
       "      <th>Marital_Status</th>\n",
       "      <th>Income</th>\n",
       "      <th>Kidhome</th>\n",
       "      <th>Teenhome</th>\n",
       "      <th>Dt_Customer</th>\n",
       "      <th>Recency</th>\n",
       "      <th>MntWines</th>\n",
       "      <th>...</th>\n",
       "      <th>Education_combined</th>\n",
       "      <th>Marital_combined</th>\n",
       "      <th>Year_Joined</th>\n",
       "      <th>Years_Customer</th>\n",
       "      <th>Kidhome_adj</th>\n",
       "      <th>Teenhome_adj</th>\n",
       "      <th>Education_encoded</th>\n",
       "      <th>Kidhome_encoded</th>\n",
       "      <th>Teenhome_encoded</th>\n",
       "      <th>Marital_encoded</th>\n",
       "    </tr>\n",
       "  </thead>\n",
       "  <tbody>\n",
       "    <tr>\n",
       "      <th>0</th>\n",
       "      <td>1826</td>\n",
       "      <td>1970</td>\n",
       "      <td>Graduation</td>\n",
       "      <td>Divorced</td>\n",
       "      <td>84835.0</td>\n",
       "      <td>0</td>\n",
       "      <td>0</td>\n",
       "      <td>2014-06-16</td>\n",
       "      <td>0</td>\n",
       "      <td>189</td>\n",
       "      <td>...</td>\n",
       "      <td>Low</td>\n",
       "      <td>Divorced</td>\n",
       "      <td>2014</td>\n",
       "      <td>9</td>\n",
       "      <td>NoKids</td>\n",
       "      <td>NoTeens</td>\n",
       "      <td>0.127168</td>\n",
       "      <td>0.171694</td>\n",
       "      <td>0.204663</td>\n",
       "      <td>0.216828</td>\n",
       "    </tr>\n",
       "    <tr>\n",
       "      <th>1</th>\n",
       "      <td>1</td>\n",
       "      <td>1961</td>\n",
       "      <td>Graduation</td>\n",
       "      <td>Single</td>\n",
       "      <td>57091.0</td>\n",
       "      <td>0</td>\n",
       "      <td>0</td>\n",
       "      <td>2014-06-15</td>\n",
       "      <td>0</td>\n",
       "      <td>464</td>\n",
       "      <td>...</td>\n",
       "      <td>Low</td>\n",
       "      <td>Single</td>\n",
       "      <td>2014</td>\n",
       "      <td>9</td>\n",
       "      <td>NoKids</td>\n",
       "      <td>NoTeens</td>\n",
       "      <td>0.127168</td>\n",
       "      <td>0.171694</td>\n",
       "      <td>0.204663</td>\n",
       "      <td>0.223819</td>\n",
       "    </tr>\n",
       "    <tr>\n",
       "      <th>2</th>\n",
       "      <td>10476</td>\n",
       "      <td>1958</td>\n",
       "      <td>Graduation</td>\n",
       "      <td>Married</td>\n",
       "      <td>67267.0</td>\n",
       "      <td>0</td>\n",
       "      <td>1</td>\n",
       "      <td>2014-05-13</td>\n",
       "      <td>0</td>\n",
       "      <td>134</td>\n",
       "      <td>...</td>\n",
       "      <td>Low</td>\n",
       "      <td>Married</td>\n",
       "      <td>2014</td>\n",
       "      <td>9</td>\n",
       "      <td>NoKids</td>\n",
       "      <td>HasTeens</td>\n",
       "      <td>0.127168</td>\n",
       "      <td>0.171694</td>\n",
       "      <td>0.089649</td>\n",
       "      <td>0.113426</td>\n",
       "    </tr>\n",
       "    <tr>\n",
       "      <th>3</th>\n",
       "      <td>1386</td>\n",
       "      <td>1967</td>\n",
       "      <td>Graduation</td>\n",
       "      <td>Together</td>\n",
       "      <td>32474.0</td>\n",
       "      <td>1</td>\n",
       "      <td>1</td>\n",
       "      <td>2014-11-05</td>\n",
       "      <td>0</td>\n",
       "      <td>10</td>\n",
       "      <td>...</td>\n",
       "      <td>Low</td>\n",
       "      <td>Together</td>\n",
       "      <td>2014</td>\n",
       "      <td>9</td>\n",
       "      <td>HasKids</td>\n",
       "      <td>HasTeens</td>\n",
       "      <td>0.127168</td>\n",
       "      <td>0.118268</td>\n",
       "      <td>0.089649</td>\n",
       "      <td>0.103448</td>\n",
       "    </tr>\n",
       "    <tr>\n",
       "      <th>4</th>\n",
       "      <td>5371</td>\n",
       "      <td>1989</td>\n",
       "      <td>Graduation</td>\n",
       "      <td>Single</td>\n",
       "      <td>21474.0</td>\n",
       "      <td>1</td>\n",
       "      <td>0</td>\n",
       "      <td>2014-08-04</td>\n",
       "      <td>0</td>\n",
       "      <td>6</td>\n",
       "      <td>...</td>\n",
       "      <td>Low</td>\n",
       "      <td>Single</td>\n",
       "      <td>2014</td>\n",
       "      <td>9</td>\n",
       "      <td>HasKids</td>\n",
       "      <td>NoTeens</td>\n",
       "      <td>0.127168</td>\n",
       "      <td>0.118268</td>\n",
       "      <td>0.204663</td>\n",
       "      <td>0.223819</td>\n",
       "    </tr>\n",
       "    <tr>\n",
       "      <th>...</th>\n",
       "      <td>...</td>\n",
       "      <td>...</td>\n",
       "      <td>...</td>\n",
       "      <td>...</td>\n",
       "      <td>...</td>\n",
       "      <td>...</td>\n",
       "      <td>...</td>\n",
       "      <td>...</td>\n",
       "      <td>...</td>\n",
       "      <td>...</td>\n",
       "      <td>...</td>\n",
       "      <td>...</td>\n",
       "      <td>...</td>\n",
       "      <td>...</td>\n",
       "      <td>...</td>\n",
       "      <td>...</td>\n",
       "      <td>...</td>\n",
       "      <td>...</td>\n",
       "      <td>...</td>\n",
       "      <td>...</td>\n",
       "      <td>...</td>\n",
       "    </tr>\n",
       "    <tr>\n",
       "      <th>2235</th>\n",
       "      <td>10142</td>\n",
       "      <td>1976</td>\n",
       "      <td>PhD</td>\n",
       "      <td>Divorced</td>\n",
       "      <td>66476.0</td>\n",
       "      <td>0</td>\n",
       "      <td>1</td>\n",
       "      <td>2013-07-03</td>\n",
       "      <td>99</td>\n",
       "      <td>372</td>\n",
       "      <td>...</td>\n",
       "      <td>High</td>\n",
       "      <td>Divorced</td>\n",
       "      <td>2013</td>\n",
       "      <td>10</td>\n",
       "      <td>NoKids</td>\n",
       "      <td>HasTeens</td>\n",
       "      <td>0.184579</td>\n",
       "      <td>0.171694</td>\n",
       "      <td>0.089649</td>\n",
       "      <td>0.216828</td>\n",
       "    </tr>\n",
       "    <tr>\n",
       "      <th>2236</th>\n",
       "      <td>5263</td>\n",
       "      <td>1977</td>\n",
       "      <td>2n Cycle</td>\n",
       "      <td>Married</td>\n",
       "      <td>31056.0</td>\n",
       "      <td>1</td>\n",
       "      <td>0</td>\n",
       "      <td>2013-01-22</td>\n",
       "      <td>99</td>\n",
       "      <td>5</td>\n",
       "      <td>...</td>\n",
       "      <td>Low</td>\n",
       "      <td>Married</td>\n",
       "      <td>2013</td>\n",
       "      <td>10</td>\n",
       "      <td>HasKids</td>\n",
       "      <td>NoTeens</td>\n",
       "      <td>0.127168</td>\n",
       "      <td>0.118268</td>\n",
       "      <td>0.204663</td>\n",
       "      <td>0.113426</td>\n",
       "    </tr>\n",
       "    <tr>\n",
       "      <th>2237</th>\n",
       "      <td>22</td>\n",
       "      <td>1976</td>\n",
       "      <td>Graduation</td>\n",
       "      <td>Divorced</td>\n",
       "      <td>46310.0</td>\n",
       "      <td>1</td>\n",
       "      <td>0</td>\n",
       "      <td>2012-03-12</td>\n",
       "      <td>99</td>\n",
       "      <td>185</td>\n",
       "      <td>...</td>\n",
       "      <td>Low</td>\n",
       "      <td>Divorced</td>\n",
       "      <td>2012</td>\n",
       "      <td>11</td>\n",
       "      <td>HasKids</td>\n",
       "      <td>NoTeens</td>\n",
       "      <td>0.127168</td>\n",
       "      <td>0.118268</td>\n",
       "      <td>0.204663</td>\n",
       "      <td>0.216828</td>\n",
       "    </tr>\n",
       "    <tr>\n",
       "      <th>2238</th>\n",
       "      <td>528</td>\n",
       "      <td>1978</td>\n",
       "      <td>Graduation</td>\n",
       "      <td>Married</td>\n",
       "      <td>65819.0</td>\n",
       "      <td>0</td>\n",
       "      <td>0</td>\n",
       "      <td>2012-11-29</td>\n",
       "      <td>99</td>\n",
       "      <td>267</td>\n",
       "      <td>...</td>\n",
       "      <td>Low</td>\n",
       "      <td>Married</td>\n",
       "      <td>2012</td>\n",
       "      <td>11</td>\n",
       "      <td>NoKids</td>\n",
       "      <td>NoTeens</td>\n",
       "      <td>0.127168</td>\n",
       "      <td>0.171694</td>\n",
       "      <td>0.204663</td>\n",
       "      <td>0.113426</td>\n",
       "    </tr>\n",
       "    <tr>\n",
       "      <th>2239</th>\n",
       "      <td>4070</td>\n",
       "      <td>1969</td>\n",
       "      <td>PhD</td>\n",
       "      <td>Married</td>\n",
       "      <td>94871.0</td>\n",
       "      <td>0</td>\n",
       "      <td>2</td>\n",
       "      <td>2012-01-09</td>\n",
       "      <td>99</td>\n",
       "      <td>169</td>\n",
       "      <td>...</td>\n",
       "      <td>High</td>\n",
       "      <td>Married</td>\n",
       "      <td>2012</td>\n",
       "      <td>11</td>\n",
       "      <td>NoKids</td>\n",
       "      <td>HasTeens</td>\n",
       "      <td>0.184579</td>\n",
       "      <td>0.171694</td>\n",
       "      <td>0.089649</td>\n",
       "      <td>0.113426</td>\n",
       "    </tr>\n",
       "  </tbody>\n",
       "</table>\n",
       "<p>2240 rows × 33 columns</p>\n",
       "</div>"
      ],
      "text/plain": [
       "         Id  Year_Birth   Education Marital_Status   Income  Kidhome  \\\n",
       "0      1826        1970  Graduation       Divorced  84835.0        0   \n",
       "1         1        1961  Graduation         Single  57091.0        0   \n",
       "2     10476        1958  Graduation        Married  67267.0        0   \n",
       "3      1386        1967  Graduation       Together  32474.0        1   \n",
       "4      5371        1989  Graduation         Single  21474.0        1   \n",
       "...     ...         ...         ...            ...      ...      ...   \n",
       "2235  10142        1976         PhD       Divorced  66476.0        0   \n",
       "2236   5263        1977    2n Cycle        Married  31056.0        1   \n",
       "2237     22        1976  Graduation       Divorced  46310.0        1   \n",
       "2238    528        1978  Graduation        Married  65819.0        0   \n",
       "2239   4070        1969         PhD        Married  94871.0        0   \n",
       "\n",
       "      Teenhome Dt_Customer  Recency  MntWines  ...  Education_combined  \\\n",
       "0            0  2014-06-16        0       189  ...                 Low   \n",
       "1            0  2014-06-15        0       464  ...                 Low   \n",
       "2            1  2014-05-13        0       134  ...                 Low   \n",
       "3            1  2014-11-05        0        10  ...                 Low   \n",
       "4            0  2014-08-04        0         6  ...                 Low   \n",
       "...        ...         ...      ...       ...  ...                 ...   \n",
       "2235         1  2013-07-03       99       372  ...                High   \n",
       "2236         0  2013-01-22       99         5  ...                 Low   \n",
       "2237         0  2012-03-12       99       185  ...                 Low   \n",
       "2238         0  2012-11-29       99       267  ...                 Low   \n",
       "2239         2  2012-01-09       99       169  ...                High   \n",
       "\n",
       "      Marital_combined  Year_Joined  Years_Customer  Kidhome_adj  \\\n",
       "0             Divorced         2014               9       NoKids   \n",
       "1               Single         2014               9       NoKids   \n",
       "2              Married         2014               9       NoKids   \n",
       "3             Together         2014               9      HasKids   \n",
       "4               Single         2014               9      HasKids   \n",
       "...                ...          ...             ...          ...   \n",
       "2235          Divorced         2013              10       NoKids   \n",
       "2236           Married         2013              10      HasKids   \n",
       "2237          Divorced         2012              11      HasKids   \n",
       "2238           Married         2012              11       NoKids   \n",
       "2239           Married         2012              11       NoKids   \n",
       "\n",
       "      Teenhome_adj  Education_encoded  Kidhome_encoded  Teenhome_encoded  \\\n",
       "0          NoTeens           0.127168         0.171694          0.204663   \n",
       "1          NoTeens           0.127168         0.171694          0.204663   \n",
       "2         HasTeens           0.127168         0.171694          0.089649   \n",
       "3         HasTeens           0.127168         0.118268          0.089649   \n",
       "4          NoTeens           0.127168         0.118268          0.204663   \n",
       "...            ...                ...              ...               ...   \n",
       "2235      HasTeens           0.184579         0.171694          0.089649   \n",
       "2236       NoTeens           0.127168         0.118268          0.204663   \n",
       "2237       NoTeens           0.127168         0.118268          0.204663   \n",
       "2238       NoTeens           0.127168         0.171694          0.204663   \n",
       "2239      HasTeens           0.184579         0.171694          0.089649   \n",
       "\n",
       "      Marital_encoded  \n",
       "0            0.216828  \n",
       "1            0.223819  \n",
       "2            0.113426  \n",
       "3            0.103448  \n",
       "4            0.223819  \n",
       "...               ...  \n",
       "2235         0.216828  \n",
       "2236         0.113426  \n",
       "2237         0.216828  \n",
       "2238         0.113426  \n",
       "2239         0.113426  \n",
       "\n",
       "[2240 rows x 33 columns]"
      ]
     },
     "execution_count": 55,
     "metadata": {},
     "output_type": "execute_result"
    }
   ],
   "source": [
    "#Target encoding instead of one-hot encoding\n",
    "encoder = TargetEncoder()\n",
    "df[['Education_encoded', 'Kidhome_encoded', \n",
    "    'Teenhome_encoded', 'Marital_encoded']] = encoder.fit_transform(df[['Education_combined', 'Kidhome_adj',\n",
    "                                                                       'Teenhome_adj', 'Marital_combined']], \n",
    "                                                                    df['Response'])\n",
    "df"
   ]
  },
  {
   "cell_type": "code",
   "execution_count": 12,
   "id": "9ad62f36",
   "metadata": {
    "scrolled": false
   },
   "outputs": [
    {
     "name": "stdout",
     "output_type": "stream",
     "text": [
      "<class 'pandas.core.frame.DataFrame'>\n",
      "RangeIndex: 2240 entries, 0 to 2239\n",
      "Data columns (total 31 columns):\n",
      " #   Column                     Non-Null Count  Dtype         \n",
      "---  ------                     --------------  -----         \n",
      " 0   Id                         2240 non-null   int64         \n",
      " 1   Year_Birth                 2240 non-null   int64         \n",
      " 2   Education                  2240 non-null   object        \n",
      " 3   Marital_Status             2240 non-null   object        \n",
      " 4   Income                     2240 non-null   float64       \n",
      " 5   Kidhome                    2240 non-null   int64         \n",
      " 6   Teenhome                   2240 non-null   int64         \n",
      " 7   Dt_Customer                2240 non-null   datetime64[ns]\n",
      " 8   Recency                    2240 non-null   int64         \n",
      " 9   MntWines                   2240 non-null   int64         \n",
      " 10  MntFruits                  2240 non-null   int64         \n",
      " 11  MntMeatProducts            2240 non-null   int64         \n",
      " 12  MntFishProducts            2240 non-null   int64         \n",
      " 13  MntSweetProducts           2240 non-null   int64         \n",
      " 14  MntGoldProds               2240 non-null   int64         \n",
      " 15  NumDealsPurchases          2240 non-null   int64         \n",
      " 16  NumWebPurchases            2240 non-null   int64         \n",
      " 17  NumCatalogPurchases        2240 non-null   int64         \n",
      " 18  NumStorePurchases          2240 non-null   int64         \n",
      " 19  NumWebVisitsMonth          2240 non-null   int64         \n",
      " 20  Response                   2240 non-null   int64         \n",
      " 21  Complain                   2240 non-null   int64         \n",
      " 22  Age                        2240 non-null   int64         \n",
      " 23  Year_Joined                2240 non-null   int32         \n",
      " 24  Years_Customer             2240 non-null   int32         \n",
      " 25  Education_combined_Low     2240 non-null   int64         \n",
      " 26  Kidhome_adj_NoKids         2240 non-null   int64         \n",
      " 27  Teenhome_adj_NoTeens       2240 non-null   int64         \n",
      " 28  Marital_combined_Married   2240 non-null   int64         \n",
      " 29  Marital_combined_Single    2240 non-null   int64         \n",
      " 30  Marital_combined_Together  2240 non-null   int64         \n",
      "dtypes: datetime64[ns](1), float64(1), int32(2), int64(25), object(2)\n",
      "memory usage: 525.1+ KB\n"
     ]
    }
   ],
   "source": [
    "df.info()"
   ]
  },
  {
   "cell_type": "code",
   "execution_count": 13,
   "id": "c0cdc5d3",
   "metadata": {},
   "outputs": [
    {
     "data": {
      "text/plain": [
       "Response\n",
       "0    1906\n",
       "1     334\n",
       "Name: count, dtype: int64"
      ]
     },
     "execution_count": 13,
     "metadata": {},
     "output_type": "execute_result"
    }
   ],
   "source": [
    "df['Response'].value_counts()"
   ]
  },
  {
   "cell_type": "code",
   "execution_count": 14,
   "id": "b73633fe",
   "metadata": {},
   "outputs": [],
   "source": [
    "#Split data using train/test split\n",
    "X = df.drop(columns = ['Response', 'Id', 'Dt_Customer', 'Education', 'Kidhome', 'Teenhome', 'Marital_Status'],\n",
    "                      # Uncomment if using Target Encoding \n",
    "                      # 'Education_combined', 'Kidhome_adj', 'Teenhome_adj', 'Marital_combined'], \n",
    "            axis = 1)\n",
    "y = df['Response']\n",
    "X_train, X_test, y_train, y_test = train_test_split(X, y, test_size = 0.2, random_state = 10, stratify = y)"
   ]
  },
  {
   "cell_type": "code",
   "execution_count": 15,
   "id": "be4dc56f",
   "metadata": {
    "scrolled": true
   },
   "outputs": [],
   "source": [
    "#Standardize Data\n",
    "scaler = StandardScaler()\n",
    "X_train_scaled = scaler.fit_transform(X_train)\n",
    "X_test_scaled = scaler.transform(X_test)"
   ]
  },
  {
   "cell_type": "markdown",
   "id": "53134688",
   "metadata": {},
   "source": [
    "# Principal Component Analysis for Dimensionality Reduction"
   ]
  },
  {
   "cell_type": "code",
   "execution_count": 16,
   "id": "fc2b3c8b",
   "metadata": {},
   "outputs": [
    {
     "data": {
      "text/plain": [
       "array([0.2533256 , 0.10776823, 0.09644116, 0.06335947, 0.05444993,\n",
       "       0.05203926, 0.04730474, 0.04168432, 0.04099305, 0.03282967,\n",
       "       0.02995854, 0.02662637, 0.02442018, 0.02094093, 0.01907087,\n",
       "       0.01792245, 0.01577742, 0.01505408])"
      ]
     },
     "execution_count": 16,
     "metadata": {},
     "output_type": "execute_result"
    }
   ],
   "source": [
    "#Applying PCA\n",
    "#Specifying the number of components to capture 95% of variation in the dataset\n",
    "pca = PCA(n_components = 0.95)\n",
    " \n",
    "X_train_scaled = pca.fit_transform(X_train_scaled)\n",
    "X_test_scaled = pca.transform(X_test_scaled)\n",
    " \n",
    "explained_variance = pca.explained_variance_ratio_\n",
    "explained_variance"
   ]
  },
  {
   "cell_type": "code",
   "execution_count": 25,
   "id": "661c0be1",
   "metadata": {},
   "outputs": [
    {
     "data": {
      "image/png": "[encoded data removed]",
      "text/plain": [
       "<Figure size 1000x600 with 1 Axes>"
      ]
     },
     "metadata": {},
     "output_type": "display_data"
    }
   ],
   "source": [
    "#Creating plot of variance explained for each component of PCA\n",
    "plt.figure(figsize=(10, 6))\n",
    "plt.plot(range(1, len(explained_variance) + 1), explained_variance, marker='o', linestyle='--')\n",
    "plt.title('PCA: Explained Variance vs. Number of Components')\n",
    "plt.xlabel('Number of Components')\n",
    "plt.ylabel('Explained Variance')\n",
    "plt.xticks(range(1, len(explained_variance) + 1))\n",
    "plt.grid(True)\n",
    "plt.show()"
   ]
  },
  {
   "cell_type": "markdown",
   "id": "bce2250d",
   "metadata": {},
   "source": [
    "# Class Imbalance Techniques"
   ]
  },
  {
   "cell_type": "code",
   "execution_count": 17,
   "id": "c5472439",
   "metadata": {
    "scrolled": true
   },
   "outputs": [
    {
     "name": "stdout",
     "output_type": "stream",
     "text": [
      "              precision    recall  f1-score   support\n",
      "\n",
      "           0       0.95      0.77      0.85       381\n",
      "           1       0.37      0.79      0.51        67\n",
      "\n",
      "    accuracy                           0.77       448\n",
      "   macro avg       0.66      0.78      0.68       448\n",
      "weighted avg       0.87      0.77      0.80       448\n",
      "\n"
     ]
    }
   ],
   "source": [
    "#Class Weights\n",
    "classifier = LogisticRegression(max_iter = 100000, class_weight = 'balanced')\n",
    "classifier.fit(X_train_scaled, y_train)\n",
    "y_pred = classifier.predict(X_test_scaled)\n",
    "confusion_matrix(y_test, y_pred, normalize = 'true')\n",
    "print(classification_report(y_test, y_pred))"
   ]
  },
  {
   "cell_type": "code",
   "execution_count": 16,
   "id": "e25e7a3f",
   "metadata": {},
   "outputs": [],
   "source": [
    "#Handle class imbalance with RandomOverSampler\n",
    "oversample = RandomOverSampler()\n",
    "X_train_scaled, y_train = oversample.fit_resample(X_train_scaled, y_train)"
   ]
  },
  {
   "cell_type": "code",
   "execution_count": null,
   "id": "676b441c",
   "metadata": {},
   "outputs": [],
   "source": [
    "#Handle class imbalance using SMOTE\n",
    "oversample = SMOTE()\n",
    "X_train_scaled, y_train = oversample.fit_resample(X_train_scaled, y_train)"
   ]
  },
  {
   "cell_type": "code",
   "execution_count": null,
   "id": "6cf6319b",
   "metadata": {},
   "outputs": [],
   "source": [
    "#Handle class imbalance with RandomUnderSampler\n",
    "undersample = RandomUnderSampler()\n",
    "X_train_scaled, y_train = undersample.fit_resample(X_train_scaled, y_train)"
   ]
  },
  {
   "cell_type": "code",
   "execution_count": null,
   "id": "b024d7f3",
   "metadata": {},
   "outputs": [],
   "source": [
    "#Handle class imbalance with NearMiss\n",
    "undersample = NearMiss()\n",
    "X_train_scaled, y_train = undersample.fit_resample(X_train_scaled, y_train)"
   ]
  },
  {
   "cell_type": "code",
   "execution_count": 64,
   "id": "65b05c35",
   "metadata": {},
   "outputs": [
    {
     "data": {
      "text/plain": [
       "Response\n",
       "0    1525\n",
       "1    1525\n",
       "Name: count, dtype: int64"
      ]
     },
     "execution_count": 64,
     "metadata": {},
     "output_type": "execute_result"
    }
   ],
   "source": [
    "#Balanced\n",
    "y_train.value_counts()"
   ]
  },
  {
   "cell_type": "markdown",
   "id": "65895743",
   "metadata": {},
   "source": [
    "# Model Development "
   ]
  },
  {
   "cell_type": "code",
   "execution_count": 17,
   "id": "be9ce9f5",
   "metadata": {},
   "outputs": [],
   "source": [
    "#List containing each model\n",
    "model_list = []"
   ]
  },
  {
   "cell_type": "code",
   "execution_count": 18,
   "id": "5f380f01",
   "metadata": {},
   "outputs": [
    {
     "data": {
      "text/html": [
       "<style>#sk-container-id-1 {color: black;background-color: white;}#sk-container-id-1 pre{padding: 0;}#sk-container-id-1 div.sk-toggleable {background-color: white;}#sk-container-id-1 label.sk-toggleable__label {cursor: pointer;display: block;width: 100%;margin-bottom: 0;padding: 0.3em;box-sizing: border-box;text-align: center;}#sk-container-id-1 label.sk-toggleable__label-arrow:before {content: \"▸\";float: left;margin-right: 0.25em;color: #696969;}#sk-container-id-1 label.sk-toggleable__label-arrow:hover:before {color: black;}#sk-container-id-1 div.sk-estimator:hover label.sk-toggleable__label-arrow:before {color: black;}#sk-container-id-1 div.sk-toggleable__content {max-height: 0;max-width: 0;overflow: hidden;text-align: left;background-color: #f0f8ff;}#sk-container-id-1 div.sk-toggleable__content pre {margin: 0.2em;color: black;border-radius: 0.25em;background-color: #f0f8ff;}#sk-container-id-1 input.sk-toggleable__control:checked~div.sk-toggleable__content {max-height: 200px;max-width: 100%;overflow: auto;}#sk-container-id-1 input.sk-toggleable__control:checked~label.sk-toggleable__label-arrow:before {content: \"▾\";}#sk-container-id-1 div.sk-estimator input.sk-toggleable__control:checked~label.sk-toggleable__label {background-color: #d4ebff;}#sk-container-id-1 div.sk-label input.sk-toggleable__control:checked~label.sk-toggleable__label {background-color: #d4ebff;}#sk-container-id-1 input.sk-hidden--visually {border: 0;clip: rect(1px 1px 1px 1px);clip: rect(1px, 1px, 1px, 1px);height: 1px;margin: -1px;overflow: hidden;padding: 0;position: absolute;width: 1px;}#sk-container-id-1 div.sk-estimator {font-family: monospace;background-color: #f0f8ff;border: 1px dotted black;border-radius: 0.25em;box-sizing: border-box;margin-bottom: 0.5em;}#sk-container-id-1 div.sk-estimator:hover {background-color: #d4ebff;}#sk-container-id-1 div.sk-parallel-item::after {content: \"\";width: 100%;border-bottom: 1px solid gray;flex-grow: 1;}#sk-container-id-1 div.sk-label:hover label.sk-toggleable__label {background-color: #d4ebff;}#sk-container-id-1 div.sk-serial::before {content: \"\";position: absolute;border-left: 1px solid gray;box-sizing: border-box;top: 0;bottom: 0;left: 50%;z-index: 0;}#sk-container-id-1 div.sk-serial {display: flex;flex-direction: column;align-items: center;background-color: white;padding-right: 0.2em;padding-left: 0.2em;position: relative;}#sk-container-id-1 div.sk-item {position: relative;z-index: 1;}#sk-container-id-1 div.sk-parallel {display: flex;align-items: stretch;justify-content: center;background-color: white;position: relative;}#sk-container-id-1 div.sk-item::before, #sk-container-id-1 div.sk-parallel-item::before {content: \"\";position: absolute;border-left: 1px solid gray;box-sizing: border-box;top: 0;bottom: 0;left: 50%;z-index: -1;}#sk-container-id-1 div.sk-parallel-item {display: flex;flex-direction: column;z-index: 1;position: relative;background-color: white;}#sk-container-id-1 div.sk-parallel-item:first-child::after {align-self: flex-end;width: 50%;}#sk-container-id-1 div.sk-parallel-item:last-child::after {align-self: flex-start;width: 50%;}#sk-container-id-1 div.sk-parallel-item:only-child::after {width: 0;}#sk-container-id-1 div.sk-dashed-wrapped {border: 1px dashed gray;margin: 0 0.4em 0.5em 0.4em;box-sizing: border-box;padding-bottom: 0.4em;background-color: white;}#sk-container-id-1 div.sk-label label {font-family: monospace;font-weight: bold;display: inline-block;line-height: 1.2em;}#sk-container-id-1 div.sk-label-container {text-align: center;}#sk-container-id-1 div.sk-container {/* jupyter's `normalize.less` sets `[hidden] { display: none; }` but bootstrap.min.css set `[hidden] { display: none !important; }` so we also need the `!important` here to be able to override the default hidden behavior on the sphinx rendered scikit-learn.org. See: https://github.com/scikit-learn/scikit-learn/issues/21755 */display: inline-block !important;position: relative;}#sk-container-id-1 div.sk-text-repr-fallback {display: none;}</style><div id=\"sk-container-id-1\" class=\"sk-top-container\"><div class=\"sk-text-repr-fallback\"><pre>LogisticRegression()</pre><b>In a Jupyter environment, please rerun this cell to show the HTML representation or trust the notebook. <br />On GitHub, the HTML representation is unable to render, please try loading this page with nbviewer.org.</b></div><div class=\"sk-container\" hidden><div class=\"sk-item\"><div class=\"sk-estimator sk-toggleable\"><input class=\"sk-toggleable__control sk-hidden--visually\" id=\"sk-estimator-id-1\" type=\"checkbox\" checked><label for=\"sk-estimator-id-1\" class=\"sk-toggleable__label sk-toggleable__label-arrow\">LogisticRegression</label><div class=\"sk-toggleable__content\"><pre>LogisticRegression()</pre></div></div></div></div></div>"
      ],
      "text/plain": [
       "LogisticRegression()"
      ]
     },
     "execution_count": 18,
     "metadata": {},
     "output_type": "execute_result"
    }
   ],
   "source": [
    "#Logistic Regression Model\n",
    "lr_model = LogisticRegression()\n",
    "lr_model.fit(X_train_scaled, y_train)"
   ]
  },
  {
   "cell_type": "code",
   "execution_count": 19,
   "id": "1e417b06",
   "metadata": {},
   "outputs": [
    {
     "data": {
      "text/html": [
       "<style>#sk-container-id-2 {color: black;background-color: white;}#sk-container-id-2 pre{padding: 0;}#sk-container-id-2 div.sk-toggleable {background-color: white;}#sk-container-id-2 label.sk-toggleable__label {cursor: pointer;display: block;width: 100%;margin-bottom: 0;padding: 0.3em;box-sizing: border-box;text-align: center;}#sk-container-id-2 label.sk-toggleable__label-arrow:before {content: \"▸\";float: left;margin-right: 0.25em;color: #696969;}#sk-container-id-2 label.sk-toggleable__label-arrow:hover:before {color: black;}#sk-container-id-2 div.sk-estimator:hover label.sk-toggleable__label-arrow:before {color: black;}#sk-container-id-2 div.sk-toggleable__content {max-height: 0;max-width: 0;overflow: hidden;text-align: left;background-color: #f0f8ff;}#sk-container-id-2 div.sk-toggleable__content pre {margin: 0.2em;color: black;border-radius: 0.25em;background-color: #f0f8ff;}#sk-container-id-2 input.sk-toggleable__control:checked~div.sk-toggleable__content {max-height: 200px;max-width: 100%;overflow: auto;}#sk-container-id-2 input.sk-toggleable__control:checked~label.sk-toggleable__label-arrow:before {content: \"▾\";}#sk-container-id-2 div.sk-estimator input.sk-toggleable__control:checked~label.sk-toggleable__label {background-color: #d4ebff;}#sk-container-id-2 div.sk-label input.sk-toggleable__control:checked~label.sk-toggleable__label {background-color: #d4ebff;}#sk-container-id-2 input.sk-hidden--visually {border: 0;clip: rect(1px 1px 1px 1px);clip: rect(1px, 1px, 1px, 1px);height: 1px;margin: -1px;overflow: hidden;padding: 0;position: absolute;width: 1px;}#sk-container-id-2 div.sk-estimator {font-family: monospace;background-color: #f0f8ff;border: 1px dotted black;border-radius: 0.25em;box-sizing: border-box;margin-bottom: 0.5em;}#sk-container-id-2 div.sk-estimator:hover {background-color: #d4ebff;}#sk-container-id-2 div.sk-parallel-item::after {content: \"\";width: 100%;border-bottom: 1px solid gray;flex-grow: 1;}#sk-container-id-2 div.sk-label:hover label.sk-toggleable__label {background-color: #d4ebff;}#sk-container-id-2 div.sk-serial::before {content: \"\";position: absolute;border-left: 1px solid gray;box-sizing: border-box;top: 0;bottom: 0;left: 50%;z-index: 0;}#sk-container-id-2 div.sk-serial {display: flex;flex-direction: column;align-items: center;background-color: white;padding-right: 0.2em;padding-left: 0.2em;position: relative;}#sk-container-id-2 div.sk-item {position: relative;z-index: 1;}#sk-container-id-2 div.sk-parallel {display: flex;align-items: stretch;justify-content: center;background-color: white;position: relative;}#sk-container-id-2 div.sk-item::before, #sk-container-id-2 div.sk-parallel-item::before {content: \"\";position: absolute;border-left: 1px solid gray;box-sizing: border-box;top: 0;bottom: 0;left: 50%;z-index: -1;}#sk-container-id-2 div.sk-parallel-item {display: flex;flex-direction: column;z-index: 1;position: relative;background-color: white;}#sk-container-id-2 div.sk-parallel-item:first-child::after {align-self: flex-end;width: 50%;}#sk-container-id-2 div.sk-parallel-item:last-child::after {align-self: flex-start;width: 50%;}#sk-container-id-2 div.sk-parallel-item:only-child::after {width: 0;}#sk-container-id-2 div.sk-dashed-wrapped {border: 1px dashed gray;margin: 0 0.4em 0.5em 0.4em;box-sizing: border-box;padding-bottom: 0.4em;background-color: white;}#sk-container-id-2 div.sk-label label {font-family: monospace;font-weight: bold;display: inline-block;line-height: 1.2em;}#sk-container-id-2 div.sk-label-container {text-align: center;}#sk-container-id-2 div.sk-container {/* jupyter's `normalize.less` sets `[hidden] { display: none; }` but bootstrap.min.css set `[hidden] { display: none !important; }` so we also need the `!important` here to be able to override the default hidden behavior on the sphinx rendered scikit-learn.org. See: https://github.com/scikit-learn/scikit-learn/issues/21755 */display: inline-block !important;position: relative;}#sk-container-id-2 div.sk-text-repr-fallback {display: none;}</style><div id=\"sk-container-id-2\" class=\"sk-top-container\"><div class=\"sk-text-repr-fallback\"><pre>DecisionTreeClassifier()</pre><b>In a Jupyter environment, please rerun this cell to show the HTML representation or trust the notebook. <br />On GitHub, the HTML representation is unable to render, please try loading this page with nbviewer.org.</b></div><div class=\"sk-container\" hidden><div class=\"sk-item\"><div class=\"sk-estimator sk-toggleable\"><input class=\"sk-toggleable__control sk-hidden--visually\" id=\"sk-estimator-id-2\" type=\"checkbox\" checked><label for=\"sk-estimator-id-2\" class=\"sk-toggleable__label sk-toggleable__label-arrow\">DecisionTreeClassifier</label><div class=\"sk-toggleable__content\"><pre>DecisionTreeClassifier()</pre></div></div></div></div></div>"
      ],
      "text/plain": [
       "DecisionTreeClassifier()"
      ]
     },
     "execution_count": 19,
     "metadata": {},
     "output_type": "execute_result"
    }
   ],
   "source": [
    "#Decision Tree Classifier\n",
    "dt_model = DecisionTreeClassifier()\n",
    "dt_model.fit(X_train_scaled, y_train)"
   ]
  },
  {
   "cell_type": "code",
   "execution_count": 20,
   "id": "03adbe60",
   "metadata": {},
   "outputs": [
    {
     "data": {
      "text/html": [
       "<style>#sk-container-id-3 {color: black;background-color: white;}#sk-container-id-3 pre{padding: 0;}#sk-container-id-3 div.sk-toggleable {background-color: white;}#sk-container-id-3 label.sk-toggleable__label {cursor: pointer;display: block;width: 100%;margin-bottom: 0;padding: 0.3em;box-sizing: border-box;text-align: center;}#sk-container-id-3 label.sk-toggleable__label-arrow:before {content: \"▸\";float: left;margin-right: 0.25em;color: #696969;}#sk-container-id-3 label.sk-toggleable__label-arrow:hover:before {color: black;}#sk-container-id-3 div.sk-estimator:hover label.sk-toggleable__label-arrow:before {color: black;}#sk-container-id-3 div.sk-toggleable__content {max-height: 0;max-width: 0;overflow: hidden;text-align: left;background-color: #f0f8ff;}#sk-container-id-3 div.sk-toggleable__content pre {margin: 0.2em;color: black;border-radius: 0.25em;background-color: #f0f8ff;}#sk-container-id-3 input.sk-toggleable__control:checked~div.sk-toggleable__content {max-height: 200px;max-width: 100%;overflow: auto;}#sk-container-id-3 input.sk-toggleable__control:checked~label.sk-toggleable__label-arrow:before {content: \"▾\";}#sk-container-id-3 div.sk-estimator input.sk-toggleable__control:checked~label.sk-toggleable__label {background-color: #d4ebff;}#sk-container-id-3 div.sk-label input.sk-toggleable__control:checked~label.sk-toggleable__label {background-color: #d4ebff;}#sk-container-id-3 input.sk-hidden--visually {border: 0;clip: rect(1px 1px 1px 1px);clip: rect(1px, 1px, 1px, 1px);height: 1px;margin: -1px;overflow: hidden;padding: 0;position: absolute;width: 1px;}#sk-container-id-3 div.sk-estimator {font-family: monospace;background-color: #f0f8ff;border: 1px dotted black;border-radius: 0.25em;box-sizing: border-box;margin-bottom: 0.5em;}#sk-container-id-3 div.sk-estimator:hover {background-color: #d4ebff;}#sk-container-id-3 div.sk-parallel-item::after {content: \"\";width: 100%;border-bottom: 1px solid gray;flex-grow: 1;}#sk-container-id-3 div.sk-label:hover label.sk-toggleable__label {background-color: #d4ebff;}#sk-container-id-3 div.sk-serial::before {content: \"\";position: absolute;border-left: 1px solid gray;box-sizing: border-box;top: 0;bottom: 0;left: 50%;z-index: 0;}#sk-container-id-3 div.sk-serial {display: flex;flex-direction: column;align-items: center;background-color: white;padding-right: 0.2em;padding-left: 0.2em;position: relative;}#sk-container-id-3 div.sk-item {position: relative;z-index: 1;}#sk-container-id-3 div.sk-parallel {display: flex;align-items: stretch;justify-content: center;background-color: white;position: relative;}#sk-container-id-3 div.sk-item::before, #sk-container-id-3 div.sk-parallel-item::before {content: \"\";position: absolute;border-left: 1px solid gray;box-sizing: border-box;top: 0;bottom: 0;left: 50%;z-index: -1;}#sk-container-id-3 div.sk-parallel-item {display: flex;flex-direction: column;z-index: 1;position: relative;background-color: white;}#sk-container-id-3 div.sk-parallel-item:first-child::after {align-self: flex-end;width: 50%;}#sk-container-id-3 div.sk-parallel-item:last-child::after {align-self: flex-start;width: 50%;}#sk-container-id-3 div.sk-parallel-item:only-child::after {width: 0;}#sk-container-id-3 div.sk-dashed-wrapped {border: 1px dashed gray;margin: 0 0.4em 0.5em 0.4em;box-sizing: border-box;padding-bottom: 0.4em;background-color: white;}#sk-container-id-3 div.sk-label label {font-family: monospace;font-weight: bold;display: inline-block;line-height: 1.2em;}#sk-container-id-3 div.sk-label-container {text-align: center;}#sk-container-id-3 div.sk-container {/* jupyter's `normalize.less` sets `[hidden] { display: none; }` but bootstrap.min.css set `[hidden] { display: none !important; }` so we also need the `!important` here to be able to override the default hidden behavior on the sphinx rendered scikit-learn.org. See: https://github.com/scikit-learn/scikit-learn/issues/21755 */display: inline-block !important;position: relative;}#sk-container-id-3 div.sk-text-repr-fallback {display: none;}</style><div id=\"sk-container-id-3\" class=\"sk-top-container\"><div class=\"sk-text-repr-fallback\"><pre>RandomForestClassifier()</pre><b>In a Jupyter environment, please rerun this cell to show the HTML representation or trust the notebook. <br />On GitHub, the HTML representation is unable to render, please try loading this page with nbviewer.org.</b></div><div class=\"sk-container\" hidden><div class=\"sk-item\"><div class=\"sk-estimator sk-toggleable\"><input class=\"sk-toggleable__control sk-hidden--visually\" id=\"sk-estimator-id-3\" type=\"checkbox\" checked><label for=\"sk-estimator-id-3\" class=\"sk-toggleable__label sk-toggleable__label-arrow\">RandomForestClassifier</label><div class=\"sk-toggleable__content\"><pre>RandomForestClassifier()</pre></div></div></div></div></div>"
      ],
      "text/plain": [
       "RandomForestClassifier()"
      ]
     },
     "execution_count": 20,
     "metadata": {},
     "output_type": "execute_result"
    }
   ],
   "source": [
    "#Random Forest Classifier\n",
    "rf_model = RandomForestClassifier()\n",
    "rf_model.fit(X_train_scaled, y_train)"
   ]
  },
  {
   "cell_type": "code",
   "execution_count": 21,
   "id": "95fd3d9b",
   "metadata": {},
   "outputs": [
    {
     "data": {
      "text/html": [
       "<style>#sk-container-id-4 {color: black;background-color: white;}#sk-container-id-4 pre{padding: 0;}#sk-container-id-4 div.sk-toggleable {background-color: white;}#sk-container-id-4 label.sk-toggleable__label {cursor: pointer;display: block;width: 100%;margin-bottom: 0;padding: 0.3em;box-sizing: border-box;text-align: center;}#sk-container-id-4 label.sk-toggleable__label-arrow:before {content: \"▸\";float: left;margin-right: 0.25em;color: #696969;}#sk-container-id-4 label.sk-toggleable__label-arrow:hover:before {color: black;}#sk-container-id-4 div.sk-estimator:hover label.sk-toggleable__label-arrow:before {color: black;}#sk-container-id-4 div.sk-toggleable__content {max-height: 0;max-width: 0;overflow: hidden;text-align: left;background-color: #f0f8ff;}#sk-container-id-4 div.sk-toggleable__content pre {margin: 0.2em;color: black;border-radius: 0.25em;background-color: #f0f8ff;}#sk-container-id-4 input.sk-toggleable__control:checked~div.sk-toggleable__content {max-height: 200px;max-width: 100%;overflow: auto;}#sk-container-id-4 input.sk-toggleable__control:checked~label.sk-toggleable__label-arrow:before {content: \"▾\";}#sk-container-id-4 div.sk-estimator input.sk-toggleable__control:checked~label.sk-toggleable__label {background-color: #d4ebff;}#sk-container-id-4 div.sk-label input.sk-toggleable__control:checked~label.sk-toggleable__label {background-color: #d4ebff;}#sk-container-id-4 input.sk-hidden--visually {border: 0;clip: rect(1px 1px 1px 1px);clip: rect(1px, 1px, 1px, 1px);height: 1px;margin: -1px;overflow: hidden;padding: 0;position: absolute;width: 1px;}#sk-container-id-4 div.sk-estimator {font-family: monospace;background-color: #f0f8ff;border: 1px dotted black;border-radius: 0.25em;box-sizing: border-box;margin-bottom: 0.5em;}#sk-container-id-4 div.sk-estimator:hover {background-color: #d4ebff;}#sk-container-id-4 div.sk-parallel-item::after {content: \"\";width: 100%;border-bottom: 1px solid gray;flex-grow: 1;}#sk-container-id-4 div.sk-label:hover label.sk-toggleable__label {background-color: #d4ebff;}#sk-container-id-4 div.sk-serial::before {content: \"\";position: absolute;border-left: 1px solid gray;box-sizing: border-box;top: 0;bottom: 0;left: 50%;z-index: 0;}#sk-container-id-4 div.sk-serial {display: flex;flex-direction: column;align-items: center;background-color: white;padding-right: 0.2em;padding-left: 0.2em;position: relative;}#sk-container-id-4 div.sk-item {position: relative;z-index: 1;}#sk-container-id-4 div.sk-parallel {display: flex;align-items: stretch;justify-content: center;background-color: white;position: relative;}#sk-container-id-4 div.sk-item::before, #sk-container-id-4 div.sk-parallel-item::before {content: \"\";position: absolute;border-left: 1px solid gray;box-sizing: border-box;top: 0;bottom: 0;left: 50%;z-index: -1;}#sk-container-id-4 div.sk-parallel-item {display: flex;flex-direction: column;z-index: 1;position: relative;background-color: white;}#sk-container-id-4 div.sk-parallel-item:first-child::after {align-self: flex-end;width: 50%;}#sk-container-id-4 div.sk-parallel-item:last-child::after {align-self: flex-start;width: 50%;}#sk-container-id-4 div.sk-parallel-item:only-child::after {width: 0;}#sk-container-id-4 div.sk-dashed-wrapped {border: 1px dashed gray;margin: 0 0.4em 0.5em 0.4em;box-sizing: border-box;padding-bottom: 0.4em;background-color: white;}#sk-container-id-4 div.sk-label label {font-family: monospace;font-weight: bold;display: inline-block;line-height: 1.2em;}#sk-container-id-4 div.sk-label-container {text-align: center;}#sk-container-id-4 div.sk-container {/* jupyter's `normalize.less` sets `[hidden] { display: none; }` but bootstrap.min.css set `[hidden] { display: none !important; }` so we also need the `!important` here to be able to override the default hidden behavior on the sphinx rendered scikit-learn.org. See: https://github.com/scikit-learn/scikit-learn/issues/21755 */display: inline-block !important;position: relative;}#sk-container-id-4 div.sk-text-repr-fallback {display: none;}</style><div id=\"sk-container-id-4\" class=\"sk-top-container\"><div class=\"sk-text-repr-fallback\"><pre>KNeighborsClassifier(n_neighbors=20)</pre><b>In a Jupyter environment, please rerun this cell to show the HTML representation or trust the notebook. <br />On GitHub, the HTML representation is unable to render, please try loading this page with nbviewer.org.</b></div><div class=\"sk-container\" hidden><div class=\"sk-item\"><div class=\"sk-estimator sk-toggleable\"><input class=\"sk-toggleable__control sk-hidden--visually\" id=\"sk-estimator-id-4\" type=\"checkbox\" checked><label for=\"sk-estimator-id-4\" class=\"sk-toggleable__label sk-toggleable__label-arrow\">KNeighborsClassifier</label><div class=\"sk-toggleable__content\"><pre>KNeighborsClassifier(n_neighbors=20)</pre></div></div></div></div></div>"
      ],
      "text/plain": [
       "KNeighborsClassifier(n_neighbors=20)"
      ]
     },
     "execution_count": 21,
     "metadata": {},
     "output_type": "execute_result"
    }
   ],
   "source": [
    "#KNeighbors Classifier\n",
    "knn_model = KNeighborsClassifier(n_neighbors = 20)\n",
    "knn_model.fit(X_train_scaled, y_train)"
   ]
  },
  {
   "cell_type": "code",
   "execution_count": 22,
   "id": "cf206e25",
   "metadata": {},
   "outputs": [
    {
     "data": {
      "text/html": [
       "<style>#sk-container-id-5 {color: black;background-color: white;}#sk-container-id-5 pre{padding: 0;}#sk-container-id-5 div.sk-toggleable {background-color: white;}#sk-container-id-5 label.sk-toggleable__label {cursor: pointer;display: block;width: 100%;margin-bottom: 0;padding: 0.3em;box-sizing: border-box;text-align: center;}#sk-container-id-5 label.sk-toggleable__label-arrow:before {content: \"▸\";float: left;margin-right: 0.25em;color: #696969;}#sk-container-id-5 label.sk-toggleable__label-arrow:hover:before {color: black;}#sk-container-id-5 div.sk-estimator:hover label.sk-toggleable__label-arrow:before {color: black;}#sk-container-id-5 div.sk-toggleable__content {max-height: 0;max-width: 0;overflow: hidden;text-align: left;background-color: #f0f8ff;}#sk-container-id-5 div.sk-toggleable__content pre {margin: 0.2em;color: black;border-radius: 0.25em;background-color: #f0f8ff;}#sk-container-id-5 input.sk-toggleable__control:checked~div.sk-toggleable__content {max-height: 200px;max-width: 100%;overflow: auto;}#sk-container-id-5 input.sk-toggleable__control:checked~label.sk-toggleable__label-arrow:before {content: \"▾\";}#sk-container-id-5 div.sk-estimator input.sk-toggleable__control:checked~label.sk-toggleable__label {background-color: #d4ebff;}#sk-container-id-5 div.sk-label input.sk-toggleable__control:checked~label.sk-toggleable__label {background-color: #d4ebff;}#sk-container-id-5 input.sk-hidden--visually {border: 0;clip: rect(1px 1px 1px 1px);clip: rect(1px, 1px, 1px, 1px);height: 1px;margin: -1px;overflow: hidden;padding: 0;position: absolute;width: 1px;}#sk-container-id-5 div.sk-estimator {font-family: monospace;background-color: #f0f8ff;border: 1px dotted black;border-radius: 0.25em;box-sizing: border-box;margin-bottom: 0.5em;}#sk-container-id-5 div.sk-estimator:hover {background-color: #d4ebff;}#sk-container-id-5 div.sk-parallel-item::after {content: \"\";width: 100%;border-bottom: 1px solid gray;flex-grow: 1;}#sk-container-id-5 div.sk-label:hover label.sk-toggleable__label {background-color: #d4ebff;}#sk-container-id-5 div.sk-serial::before {content: \"\";position: absolute;border-left: 1px solid gray;box-sizing: border-box;top: 0;bottom: 0;left: 50%;z-index: 0;}#sk-container-id-5 div.sk-serial {display: flex;flex-direction: column;align-items: center;background-color: white;padding-right: 0.2em;padding-left: 0.2em;position: relative;}#sk-container-id-5 div.sk-item {position: relative;z-index: 1;}#sk-container-id-5 div.sk-parallel {display: flex;align-items: stretch;justify-content: center;background-color: white;position: relative;}#sk-container-id-5 div.sk-item::before, #sk-container-id-5 div.sk-parallel-item::before {content: \"\";position: absolute;border-left: 1px solid gray;box-sizing: border-box;top: 0;bottom: 0;left: 50%;z-index: -1;}#sk-container-id-5 div.sk-parallel-item {display: flex;flex-direction: column;z-index: 1;position: relative;background-color: white;}#sk-container-id-5 div.sk-parallel-item:first-child::after {align-self: flex-end;width: 50%;}#sk-container-id-5 div.sk-parallel-item:last-child::after {align-self: flex-start;width: 50%;}#sk-container-id-5 div.sk-parallel-item:only-child::after {width: 0;}#sk-container-id-5 div.sk-dashed-wrapped {border: 1px dashed gray;margin: 0 0.4em 0.5em 0.4em;box-sizing: border-box;padding-bottom: 0.4em;background-color: white;}#sk-container-id-5 div.sk-label label {font-family: monospace;font-weight: bold;display: inline-block;line-height: 1.2em;}#sk-container-id-5 div.sk-label-container {text-align: center;}#sk-container-id-5 div.sk-container {/* jupyter's `normalize.less` sets `[hidden] { display: none; }` but bootstrap.min.css set `[hidden] { display: none !important; }` so we also need the `!important` here to be able to override the default hidden behavior on the sphinx rendered scikit-learn.org. See: https://github.com/scikit-learn/scikit-learn/issues/21755 */display: inline-block !important;position: relative;}#sk-container-id-5 div.sk-text-repr-fallback {display: none;}</style><div id=\"sk-container-id-5\" class=\"sk-top-container\"><div class=\"sk-text-repr-fallback\"><pre>XGBClassifier(base_score=0.5, booster=&#x27;gbtree&#x27;, callbacks=None,\n",
       "              colsample_bylevel=1, colsample_bynode=1, colsample_bytree=1,\n",
       "              early_stopping_rounds=None, enable_categorical=False,\n",
       "              eval_metric=None, feature_types=None, gamma=0, gpu_id=-1,\n",
       "              grow_policy=&#x27;depthwise&#x27;, importance_type=None,\n",
       "              interaction_constraints=&#x27;&#x27;, learning_rate=0.05, max_bin=256,\n",
       "              max_cat_threshold=64, max_cat_to_onehot=4, max_delta_step=0,\n",
       "              max_depth=6, max_leaves=0, min_child_weight=1, missing=nan,\n",
       "              monotone_constraints=&#x27;()&#x27;, n_estimators=1000, n_jobs=0,\n",
       "              num_parallel_tree=1, predictor=&#x27;auto&#x27;, random_state=42, ...)</pre><b>In a Jupyter environment, please rerun this cell to show the HTML representation or trust the notebook. <br />On GitHub, the HTML representation is unable to render, please try loading this page with nbviewer.org.</b></div><div class=\"sk-container\" hidden><div class=\"sk-item\"><div class=\"sk-estimator sk-toggleable\"><input class=\"sk-toggleable__control sk-hidden--visually\" id=\"sk-estimator-id-5\" type=\"checkbox\" checked><label for=\"sk-estimator-id-5\" class=\"sk-toggleable__label sk-toggleable__label-arrow\">XGBClassifier</label><div class=\"sk-toggleable__content\"><pre>XGBClassifier(base_score=0.5, booster=&#x27;gbtree&#x27;, callbacks=None,\n",
       "              colsample_bylevel=1, colsample_bynode=1, colsample_bytree=1,\n",
       "              early_stopping_rounds=None, enable_categorical=False,\n",
       "              eval_metric=None, feature_types=None, gamma=0, gpu_id=-1,\n",
       "              grow_policy=&#x27;depthwise&#x27;, importance_type=None,\n",
       "              interaction_constraints=&#x27;&#x27;, learning_rate=0.05, max_bin=256,\n",
       "              max_cat_threshold=64, max_cat_to_onehot=4, max_delta_step=0,\n",
       "              max_depth=6, max_leaves=0, min_child_weight=1, missing=nan,\n",
       "              monotone_constraints=&#x27;()&#x27;, n_estimators=1000, n_jobs=0,\n",
       "              num_parallel_tree=1, predictor=&#x27;auto&#x27;, random_state=42, ...)</pre></div></div></div></div></div>"
      ],
      "text/plain": [
       "XGBClassifier(base_score=0.5, booster='gbtree', callbacks=None,\n",
       "              colsample_bylevel=1, colsample_bynode=1, colsample_bytree=1,\n",
       "              early_stopping_rounds=None, enable_categorical=False,\n",
       "              eval_metric=None, feature_types=None, gamma=0, gpu_id=-1,\n",
       "              grow_policy='depthwise', importance_type=None,\n",
       "              interaction_constraints='', learning_rate=0.05, max_bin=256,\n",
       "              max_cat_threshold=64, max_cat_to_onehot=4, max_delta_step=0,\n",
       "              max_depth=6, max_leaves=0, min_child_weight=1, missing=nan,\n",
       "              monotone_constraints='()', n_estimators=1000, n_jobs=0,\n",
       "              num_parallel_tree=1, predictor='auto', random_state=42, ...)"
      ]
     },
     "execution_count": 22,
     "metadata": {},
     "output_type": "execute_result"
    }
   ],
   "source": [
    "#Gradient Boost Classifier\n",
    "import xgboost as xgb\n",
    "xgb_model = xgb.XGBClassifier(objective = 'binary:logistic', learning_rate = 0.05, n_estimators = 1000,\n",
    "                              max_depth = 6, random_state = 42)\n",
    "xgb_model.fit(X_train_scaled, y_train)"
   ]
  },
  {
   "cell_type": "code",
   "execution_count": 23,
   "id": "60522c7d",
   "metadata": {},
   "outputs": [],
   "source": [
    "model_list = [lr_model, dt_model, rf_model, knn_model, xgb_model]"
   ]
  },
  {
   "cell_type": "markdown",
   "id": "ed20272a",
   "metadata": {},
   "source": [
    "# GridSearch to fine-tune parameters"
   ]
  },
  {
   "cell_type": "code",
   "execution_count": null,
   "id": "b7a95245",
   "metadata": {},
   "outputs": [],
   "source": [
    "from sklearn.model_selection import GridSearchCV\n",
    "search_param = {'max_depth': [3, 6, 10],\n",
    "                'learning_rate': [.01, .05, .1, .3],\n",
    "                'n_estimators': [100, 500, 1000]}\n",
    "GS = GridSearchCV(estimator = xgb_model,\n",
    "                 param_grid = search_param,\n",
    "                 scoring = ['roc_auc', 'accuracy'],\n",
    "                 refit = 'roc_auc', \n",
    "                 cv = 5,\n",
    "                 verbose = 4)\n",
    "GS.fit(X_train_scaled, y_train)"
   ]
  },
  {
   "cell_type": "code",
   "execution_count": null,
   "id": "71321354",
   "metadata": {},
   "outputs": [],
   "source": [
    "print(GS.best_estimator_, '\\n', GS.best_score_)"
   ]
  },
  {
   "cell_type": "code",
   "execution_count": 24,
   "id": "bfa4f38d",
   "metadata": {},
   "outputs": [],
   "source": [
    "#Function to calculate training set accuracy, test set accuracy, and AUC score, and display classification report\n",
    "def metric_calc(model_list, X_test_scaled, y_test):\n",
    "    for elem in model_list:\n",
    "        print(str(elem))\n",
    "        model_predictions = elem.predict(X_test_scaled)\n",
    "        print('Training Accuracy: ' + str(elem.score(X_train_scaled, y_train)))\n",
    "        print('Test Accuracy: ' + str(accuracy_score(y_test, model_predictions)))\n",
    "        print('AUC Score: ' + str(roc_auc_score(y_test, model_predictions)))\n",
    "        print(classification_report(y_test, model_predictions))"
   ]
  },
  {
   "cell_type": "code",
   "execution_count": 25,
   "id": "86343523",
   "metadata": {
    "scrolled": false
   },
   "outputs": [
    {
     "name": "stdout",
     "output_type": "stream",
     "text": [
      "LogisticRegression()\n",
      "Training Accuracy: 0.7770491803278688\n",
      "Test Accuracy: 0.7633928571428571\n",
      "AUC Score: 0.7747874799232185\n",
      "              precision    recall  f1-score   support\n",
      "\n",
      "           0       0.95      0.76      0.85       381\n",
      "           1       0.37      0.79      0.50        67\n",
      "\n",
      "    accuracy                           0.76       448\n",
      "   macro avg       0.66      0.77      0.67       448\n",
      "weighted avg       0.87      0.76      0.79       448\n",
      "\n",
      "DecisionTreeClassifier()\n",
      "Training Accuracy: 0.9954098360655738\n",
      "Test Accuracy: 0.8459821428571429\n",
      "AUC Score: 0.6880361969679164\n",
      "              precision    recall  f1-score   support\n",
      "\n",
      "           0       0.91      0.91      0.91       381\n",
      "           1       0.48      0.46      0.47        67\n",
      "\n",
      "    accuracy                           0.85       448\n",
      "   macro avg       0.70      0.69      0.69       448\n",
      "weighted avg       0.84      0.85      0.84       448\n",
      "\n",
      "RandomForestClassifier()\n",
      "Training Accuracy: 0.9954098360655738\n",
      "Test Accuracy: 0.8861607142857143\n",
      "AUC Score: 0.693207192384534\n",
      "              precision    recall  f1-score   support\n",
      "\n",
      "           0       0.90      0.97      0.94       381\n",
      "           1       0.70      0.42      0.52        67\n",
      "\n",
      "    accuracy                           0.89       448\n",
      "   macro avg       0.80      0.69      0.73       448\n",
      "weighted avg       0.87      0.89      0.87       448\n",
      "\n",
      "KNeighborsClassifier(n_neighbors=20)\n",
      "Training Accuracy: 0.8222950819672131\n",
      "Test Accuracy: 0.7767857142857143\n",
      "AUC Score: 0.6965565871430252\n",
      "              precision    recall  f1-score   support\n",
      "\n",
      "           0       0.92      0.81      0.86       381\n",
      "           1       0.35      0.58      0.44        67\n",
      "\n",
      "    accuracy                           0.78       448\n",
      "   macro avg       0.63      0.70      0.65       448\n",
      "weighted avg       0.83      0.78      0.80       448\n",
      "\n",
      "XGBClassifier(base_score=0.5, booster='gbtree', callbacks=None,\n",
      "              colsample_bylevel=1, colsample_bynode=1, colsample_bytree=1,\n",
      "              early_stopping_rounds=None, enable_categorical=False,\n",
      "              eval_metric=None, feature_types=None, gamma=0, gpu_id=-1,\n",
      "              grow_policy='depthwise', importance_type=None,\n",
      "              interaction_constraints='', learning_rate=0.05, max_bin=256,\n",
      "              max_cat_threshold=64, max_cat_to_onehot=4, max_delta_step=0,\n",
      "              max_depth=6, max_leaves=0, min_child_weight=1, missing=nan,\n",
      "              monotone_constraints='()', n_estimators=1000, n_jobs=0,\n",
      "              num_parallel_tree=1, predictor='auto', random_state=42, ...)\n",
      "Training Accuracy: 0.9954098360655738\n",
      "Test Accuracy: 0.8861607142857143\n",
      "AUC Score: 0.7239589454303287\n",
      "              precision    recall  f1-score   support\n",
      "\n",
      "           0       0.91      0.96      0.93       381\n",
      "           1       0.66      0.49      0.56        67\n",
      "\n",
      "    accuracy                           0.89       448\n",
      "   macro avg       0.79      0.72      0.75       448\n",
      "weighted avg       0.88      0.89      0.88       448\n",
      "\n"
     ]
    }
   ],
   "source": [
    "metric_calc(model_list, X_test_scaled, y_test)"
   ]
  },
  {
   "cell_type": "code",
   "execution_count": 26,
   "id": "ca9218eb",
   "metadata": {},
   "outputs": [
    {
     "data": {
      "text/plain": [
       "Text(0.5, 1.0, 'Test Precision-Recall curve')"
      ]
     },
     "execution_count": 26,
     "metadata": {},
     "output_type": "execute_result"
    },
    {
     "data": {
      "image/png": "[encoded data removed]",
      "text/plain": [
       "<Figure size 640x480 with 1 Axes>"
      ]
     },
     "metadata": {},
     "output_type": "display_data"
    }
   ],
   "source": [
    "from sklearn.metrics import precision_recall_curve\n",
    "y_prob_test = xgb_model.predict_proba(X_test)[:,1]\n",
    "precision, recall, thresholds = precision_recall_curve(y_test, y_prob_test)\n",
    "plt.fill_between(recall, precision)\n",
    "plt.ylabel('Precision')\n",
    "plt.xlabel('Recall')\n",
    "plt.title('Test Precision-Recall curve')"
   ]
  },
  {
   "cell_type": "code",
   "execution_count": 28,
   "id": "c8ab1d6f",
   "metadata": {
    "scrolled": false
   },
   "outputs": [
    {
     "data": {
      "image/png": "[encoded data removed]",
      "text/plain": [
       "<Figure size 1000x600 with 1 Axes>"
      ]
     },
     "metadata": {},
     "output_type": "display_data"
    }
   ],
   "source": [
    "#Feature importances for XGBoost\n",
    "feature_importances = xgb_model.feature_importances_\n",
    "feature_names = X_train.columns\n",
    "importance_df = pd.DataFrame({'Feature': feature_names, 'Importance': feature_importances})\n",
    "\n",
    "#Sort features by importance\n",
    "importance_df = importance_df.sort_values(by='Importance', ascending=False)\n",
    "\n",
    "#Plot feature importances\n",
    "plt.figure(figsize=(10, 6))\n",
    "plt.barh(importance_df['Feature'], importance_df['Importance'])\n",
    "plt.xlabel('Feature Importance')\n",
    "plt.ylabel('Feature')\n",
    "plt.title('XGBoost Feature Importance')\n",
    "plt.show()"
   ]
  },
  {
   "cell_type": "markdown",
   "id": "5823afdf",
   "metadata": {},
   "source": [
    "## Conclusion: \n",
    "\n"
   ]
  },
  {
   "cell_type": "markdown",
   "id": "b45eaa6b",
   "metadata": {},
   "source": [
    "The supermarket intends to propose a new gold membership for customers which would give a 20% discount on all purchases for 499 dollars instead of the usual 999 dollars. The store needs information about which customers are likely to respond positively to its new marketing campaign, and factors which can help explain consumer behavior. The year in which an individual became a customer of the supermarket is the top predictor of whether he or she will respond favorably to the marketing campaign. Generally, if customers have been shopping at this particular supermarket for a long time, then it follows that they probably frequent this store over others and consequently prefer their assortment of goods and services. Additionally, the number of catalog purchases, which captures the number of purchased goods to be shipped in the mail, is the second leading predictor, suggesting consumers who have goods delivered may purchase more frequently and see value in an overall 20% discount on future purchases. The third leading predictor is for consumers with no teenage children, which is an interesting finding. Perhaps teenagers have greater influence on their parents as to which stores to visit than younger children, and either urge them to visit this supermarket or frequent a different store. After these three leading factors, the recency of visiting the supermarket, number of website visits in the last month, and the number of store purchases represent features with relatively high predictive power. \n",
    "\n",
    "The supervised learning machine learning models with the greatest overall performance were the RandomForest Classifier and XGBoost Classifier. Both achieved relatively high test accuracies of about 89%; however, in this problem, we are primarily interested in the minority class of whether individuals will respond positively to the new marketing campaign, so it will likely be more beneficial to evaluate the models' performance using precision and recall. For the positive class, the RandomForest model yielded a precision of 0.70 indicating that of the consumers predicted to respond positively, about 70% of them actually responded positively. The model's recall was low at 0.42 meaning of those who actually responded positively, only roughly 42% of them were predicted to respond positively. With the XGBoost model, the precision was 0.66 and recall was 0.49. The LogisticRegression model reached the highest recall of 0.79 but had one of the lowest precisions of 0.37 for the positive class.  "
   ]
  },
  {
   "cell_type": "markdown",
   "id": "69abccc5",
   "metadata": {},
   "source": [
    "## Future Direction: "
   ]
  },
  {
   "cell_type": "markdown",
   "id": "04dc159a",
   "metadata": {},
   "source": [
    "In the future, it will be beneficial for the supermarket to collect more data about different consumers since there were only 2240 instances collected which may have made it difficult for the machine learning models to achieve higher performances. The supermarket may also want to provide specific features about the marketing campaign instead of just its consumers. There may be an issue with the marketing design, message, or content which affects customers' response to the campaign. Furthermore, I would try more advanced supervised learning techniques such as neural networks or deep learning given there is more data collected in the future. With the existing models, I would spend more time fine-tuning existing parameters to see if there would be a noticeable difference in perforamance, experiment with other novel features, and try new techniques to handle class imbalance, imputation, and standardization of the data. "
   ]
  }
 ],
 "metadata": {
  "kernelspec": {
   "display_name": "Python 3 (ipykernel)",
   "language": "python",
   "name": "python3"
  },
  "language_info": {
   "codemirror_mode": {
    "name": "ipython",
    "version": 3
   },
   "file_extension": ".py",
   "mimetype": "text/x-python",
   "name": "python",
   "nbconvert_exporter": "python",
   "pygments_lexer": "ipython3",
   "version": "3.8.16"
  }
 },
 "nbformat": 4,
 "nbformat_minor": 5
}
